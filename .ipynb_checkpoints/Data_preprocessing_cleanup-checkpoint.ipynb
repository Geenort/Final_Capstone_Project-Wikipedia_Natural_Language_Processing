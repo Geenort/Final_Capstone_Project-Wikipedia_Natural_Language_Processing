{
 "cells": [
  {
   "cell_type": "code",
   "execution_count": null,
   "metadata": {},
   "outputs": [],
   "source": [
    "import os\n",
    "import pandas as pd"
   ]
  },
  {
   "cell_type": "code",
   "execution_count": null,
   "metadata": {},
   "outputs": [],
   "source": [
    "df = pd.read_csv(os.path.join(\"Resources\", \"wiki_movie_plots.csv\"))"
   ]
  },
  {
   "cell_type": "code",
   "execution_count": null,
   "metadata": {},
   "outputs": [],
   "source": [
    "# Delete unnecessary columns\n",
    "df.drop(['Unnamed: 8','Origin/Ethnicity','Director','Cast'], axis=1, inplace=True)"
   ]
  },
  {
   "cell_type": "code",
   "execution_count": null,
   "metadata": {},
   "outputs": [],
   "source": [
    "# Remove all rows with genre of 'unknown'\n",
    "df = df[df['Genre'] != 'unknown']"
   ]
  },
  {
   "cell_type": "code",
   "execution_count": null,
   "metadata": {},
   "outputs": [],
   "source": [
    "# Initial genre replacements before splitting on separators\n",
    "df['Genre'] = df['Genre'].replace({'romantic comedy':'romance',\n",
    "                                   'science fiction':'science_fiction',\n",
    "                                   'film noir':'crime'})"
   ]
  },
  {
   "cell_type": "code",
   "execution_count": null,
   "metadata": {},
   "outputs": [],
   "source": [
    "# Clean up genres - replace all possible separators with ' ', then split and return 1st word only\n",
    "def reduce_genre(string):\n",
    "    return str(string).replace(', ',' ').replace('-',' ').replace(' / ',' ').replace('/',' ').split(' ')[0]"
   ]
  },
  {
   "cell_type": "code",
   "execution_count": null,
   "metadata": {},
   "outputs": [],
   "source": [
    "# Apply function to all 'Genre' values\n",
    "df['Genre'] = df['Genre'].apply(reduce_genre)"
   ]
  },
  {
   "cell_type": "code",
   "execution_count": null,
   "metadata": {},
   "outputs": [],
   "source": [
    "# Clean up genres - group subgenres into larger genres, manually\n",
    "df['Genre'] = df['Genre'].replace({'martial':'action',\n",
    "                                   'superhero':'action',\n",
    "                                   'spy':'action',\n",
    "                                   'animated':'animation',\n",
    "                                   'anime':'animation',\n",
    "                                   'biographical':'biography',\n",
    "                                   'biopic':'biography',\n",
    "                                   'mockumentary':'documentary',\n",
    "                                   'historical':'drama',\n",
    "                                   'melodrama':'drama',\n",
    "                                   'sport':'drama',\n",
    "                                   'suspense':'mystery',\n",
    "                                   'romantic':'romance',\n",
    "                                   'sci':'science_fiction',\n",
    "                                   'science':'science_fiction'})"
   ]
  },
  {
   "cell_type": "code",
   "execution_count": null,
   "metadata": {},
   "outputs": [],
   "source": [
    "# Create new column for genre counts = total count of rows with that genre.\n",
    "# Then drop all rows for genres with less than count of 300\n",
    "df['genre_count'] = df.groupby(['Genre'])['Title'].transform('count')\n",
    "df.drop(df[df['genre_count']<=300].index, inplace=True)"
   ]
  },
  {
   "cell_type": "code",
   "execution_count": null,
   "metadata": {},
   "outputs": [],
   "source": [
    "df['Genre'].value_counts()"
   ]
  },
  {
   "cell_type": "code",
   "execution_count": null,
   "metadata": {},
   "outputs": [],
   "source": [
    "df.to_csv(os.path.join(\"Resources\", \"wiki_movie_plots_CLEANED.csv\"))"
   ]
  }
 ],
 "metadata": {
  "kernelspec": {
   "display_name": "Python 3",
   "language": "python",
   "name": "python3"
  },
  "language_info": {
   "codemirror_mode": {
    "name": "ipython",
    "version": 3
   },
   "file_extension": ".py",
   "mimetype": "text/x-python",
   "name": "python",
   "nbconvert_exporter": "python",
   "pygments_lexer": "ipython3",
   "version": "3.7.1"
  }
 },
 "nbformat": 4,
 "nbformat_minor": 2
}
