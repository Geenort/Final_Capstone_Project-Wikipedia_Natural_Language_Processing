{
 "cells": [
  {
   "cell_type": "code",
   "execution_count": 1,
   "metadata": {},
   "outputs": [],
   "source": [
    "import os\n",
    "import pandas as pd"
   ]
  },
  {
   "cell_type": "code",
   "execution_count": null,
   "metadata": {},
   "outputs": [],
   "source": [
    "df = pd.read_csv(os.path.join(\"Resources\", \"wiki_movie_plots.csv\"))"
   ]
  },
  {
   "cell_type": "code",
   "execution_count": null,
   "metadata": {},
   "outputs": [],
   "source": [
    "# Delete unnecessary columns\n",
    "df.drop(['Unnamed: 8','Origin/Ethnicity','Director','Cast'], axis=1, inplace=True)"
   ]
  },
  {
   "cell_type": "code",
   "execution_count": null,
   "metadata": {},
   "outputs": [],
   "source": [
    "# Remove all rows with genre of 'unknown'\n",
    "df = df[df['Genre'] != 'unknown']"
   ]
  },
  {
   "cell_type": "code",
   "execution_count": null,
   "metadata": {},
   "outputs": [],
   "source": [
    "# Initial genre replacements before splitting on separators\n",
    "df['Genre'] = df['Genre'].replace({'science fiction':'science_fiction',\n",
    "                                   'film noir':'crime'})"
   ]
  },
  {
   "cell_type": "code",
   "execution_count": null,
   "metadata": {},
   "outputs": [],
   "source": [
    "# Clean up genres - replace all possible separators with ' ', then split and return 1st word only\n",
    "def reduce_genre(string):\n",
    "    return str(string).replace(', ',' ').replace('-',' ').replace(' / ',' ').replace('/',' ').split(' ')[0]"
   ]
  },
  {
   "cell_type": "code",
   "execution_count": null,
   "metadata": {},
   "outputs": [],
   "source": [
    "# Apply function to all 'Genre' values\n",
    "df['Genre'] = df['Genre'].apply(reduce_genre)"
   ]
  },
  {
   "cell_type": "code",
   "execution_count": null,
   "metadata": {},
   "outputs": [],
   "source": [
    "# Clean up genres - group subgenres into larger genres, manually\n",
    "df['Genre'] = df['Genre'].replace({'martial':'action',\n",
    "                                   'superhero':'action',\n",
    "                                   'spy':'action',\n",
    "                                   'animated':'animation',\n",
    "                                   'anime':'animation',\n",
    "                                   'biographical':'biography',\n",
    "                                   'biopic':'biography',\n",
    "                                   'mockumentary':'documentary',\n",
    "                                   'historical':'drama',\n",
    "                                   'melodrama':'drama',\n",
    "                                   'sport':'drama',\n",
    "                                   'suspense':'mystery',\n",
    "                                   'romantic':'romance',\n",
    "                                   'sci':'science_fiction',\n",
    "                                   'science':'science_fiction'})"
   ]
  },
  {
   "cell_type": "code",
   "execution_count": null,
   "metadata": {},
   "outputs": [],
   "source": [
    "# Create new column for genre counts = total count of rows with that genre.\n",
    "# Then drop all rows for genres with less than count of 300\n",
    "df['genre_count'] = df.groupby(['Genre'])['Title'].transform('count')\n",
    "df.drop(df[df['genre_count']<=300].index, inplace=True)"
   ]
  },
  {
   "cell_type": "code",
   "execution_count": null,
   "metadata": {},
   "outputs": [],
   "source": [
    "df['Genre'].value_counts()"
   ]
  },
  {
   "cell_type": "code",
   "execution_count": 5,
   "metadata": {},
   "outputs": [
    {
     "data": {
      "text/html": [
       "<div>\n",
       "<style scoped>\n",
       "    .dataframe tbody tr th:only-of-type {\n",
       "        vertical-align: middle;\n",
       "    }\n",
       "\n",
       "    .dataframe tbody tr th {\n",
       "        vertical-align: top;\n",
       "    }\n",
       "\n",
       "    .dataframe thead th {\n",
       "        text-align: right;\n",
       "    }\n",
       "</style>\n",
       "<table border=\"1\" class=\"dataframe\">\n",
       "  <thead>\n",
       "    <tr style=\"text-align: right;\">\n",
       "      <th></th>\n",
       "      <th>Unnamed: 0</th>\n",
       "      <th>Release Year</th>\n",
       "      <th>Title</th>\n",
       "      <th>Genre</th>\n",
       "      <th>Wiki Page</th>\n",
       "      <th>Plot</th>\n",
       "      <th>genre_count</th>\n",
       "    </tr>\n",
       "  </thead>\n",
       "  <tbody>\n",
       "    <tr>\n",
       "      <th>0</th>\n",
       "      <td>6</td>\n",
       "      <td>1903</td>\n",
       "      <td>The Great Train Robbery</td>\n",
       "      <td>western</td>\n",
       "      <td>https://en.wikipedia.org/wiki/The_Great_Train_...</td>\n",
       "      <td>The film opens with two bandits breaking into ...</td>\n",
       "      <td>924</td>\n",
       "    </tr>\n",
       "    <tr>\n",
       "      <th>1</th>\n",
       "      <td>7</td>\n",
       "      <td>1904</td>\n",
       "      <td>The Suburbanite</td>\n",
       "      <td>comedy</td>\n",
       "      <td>https://en.wikipedia.org/wiki/The_Suburbanite</td>\n",
       "      <td>The film is about a family who move to the sub...</td>\n",
       "      <td>5637</td>\n",
       "    </tr>\n",
       "    <tr>\n",
       "      <th>2</th>\n",
       "      <td>13</td>\n",
       "      <td>1907</td>\n",
       "      <td>Daniel Boone</td>\n",
       "      <td>biography</td>\n",
       "      <td>https://en.wikipedia.org/wiki/Daniel_Boone_(19...</td>\n",
       "      <td>Boone's daughter befriends an Indian maiden as...</td>\n",
       "      <td>323</td>\n",
       "    </tr>\n",
       "    <tr>\n",
       "      <th>3</th>\n",
       "      <td>14</td>\n",
       "      <td>1907</td>\n",
       "      <td>How Brown Saw the Baseball Game</td>\n",
       "      <td>comedy</td>\n",
       "      <td>https://en.wikipedia.org/wiki/How_Brown_Saw_th...</td>\n",
       "      <td>Before heading out to a baseball game at a nea...</td>\n",
       "      <td>5637</td>\n",
       "    </tr>\n",
       "    <tr>\n",
       "      <th>4</th>\n",
       "      <td>15</td>\n",
       "      <td>1907</td>\n",
       "      <td>Laughing Gas</td>\n",
       "      <td>comedy</td>\n",
       "      <td>https://en.wikipedia.org/wiki/Laughing_Gas_(fi...</td>\n",
       "      <td>The plot is that of a black woman going to the...</td>\n",
       "      <td>5637</td>\n",
       "    </tr>\n",
       "  </tbody>\n",
       "</table>\n",
       "</div>"
      ],
      "text/plain": [
       "   Unnamed: 0  Release Year                            Title      Genre  \\\n",
       "0           6          1903          The Great Train Robbery    western   \n",
       "1           7          1904                  The Suburbanite     comedy   \n",
       "2          13          1907                     Daniel Boone  biography   \n",
       "3          14          1907  How Brown Saw the Baseball Game     comedy   \n",
       "4          15          1907                     Laughing Gas     comedy   \n",
       "\n",
       "                                           Wiki Page  \\\n",
       "0  https://en.wikipedia.org/wiki/The_Great_Train_...   \n",
       "1      https://en.wikipedia.org/wiki/The_Suburbanite   \n",
       "2  https://en.wikipedia.org/wiki/Daniel_Boone_(19...   \n",
       "3  https://en.wikipedia.org/wiki/How_Brown_Saw_th...   \n",
       "4  https://en.wikipedia.org/wiki/Laughing_Gas_(fi...   \n",
       "\n",
       "                                                Plot  genre_count  \n",
       "0  The film opens with two bandits breaking into ...          924  \n",
       "1  The film is about a family who move to the sub...         5637  \n",
       "2  Boone's daughter befriends an Indian maiden as...          323  \n",
       "3  Before heading out to a baseball game at a nea...         5637  \n",
       "4  The plot is that of a black woman going to the...         5637  "
      ]
     },
     "execution_count": 5,
     "metadata": {},
     "output_type": "execute_result"
    }
   ],
   "source": [
    "cleaned_df = pd.read_csv(os.path.join(\"Resources\", \"wiki_movie_plots_CLEANED.csv\"))"
   ]
  },
  {
   "cell_type": "code",
   "execution_count": 7,
   "metadata": {},
   "outputs": [],
   "source": [
    "del cleaned_df['Unnamed: 0']"
   ]
  },
  {
   "cell_type": "code",
   "execution_count": 9,
   "metadata": {},
   "outputs": [],
   "source": [
    "del cleaned_df['genre_count']"
   ]
  },
  {
   "cell_type": "code",
   "execution_count": 14,
   "metadata": {},
   "outputs": [],
   "source": [
    "del cleaned_df['Release Year']"
   ]
  },
  {
   "cell_type": "code",
   "execution_count": 15,
   "metadata": {},
   "outputs": [
    {
     "data": {
      "text/html": [
       "<div>\n",
       "<style scoped>\n",
       "    .dataframe tbody tr th:only-of-type {\n",
       "        vertical-align: middle;\n",
       "    }\n",
       "\n",
       "    .dataframe tbody tr th {\n",
       "        vertical-align: top;\n",
       "    }\n",
       "\n",
       "    .dataframe thead th {\n",
       "        text-align: right;\n",
       "    }\n",
       "</style>\n",
       "<table border=\"1\" class=\"dataframe\">\n",
       "  <thead>\n",
       "    <tr style=\"text-align: right;\">\n",
       "      <th></th>\n",
       "      <th>Title</th>\n",
       "      <th>Genre</th>\n",
       "      <th>Wiki Page</th>\n",
       "      <th>Plot</th>\n",
       "    </tr>\n",
       "  </thead>\n",
       "  <tbody>\n",
       "    <tr>\n",
       "      <th>0</th>\n",
       "      <td>The Great Train Robbery</td>\n",
       "      <td>western</td>\n",
       "      <td>https://en.wikipedia.org/wiki/The_Great_Train_...</td>\n",
       "      <td>The film opens with two bandits breaking into ...</td>\n",
       "    </tr>\n",
       "    <tr>\n",
       "      <th>1</th>\n",
       "      <td>The Suburbanite</td>\n",
       "      <td>comedy</td>\n",
       "      <td>https://en.wikipedia.org/wiki/The_Suburbanite</td>\n",
       "      <td>The film is about a family who move to the sub...</td>\n",
       "    </tr>\n",
       "    <tr>\n",
       "      <th>2</th>\n",
       "      <td>Daniel Boone</td>\n",
       "      <td>biography</td>\n",
       "      <td>https://en.wikipedia.org/wiki/Daniel_Boone_(19...</td>\n",
       "      <td>Boone's daughter befriends an Indian maiden as...</td>\n",
       "    </tr>\n",
       "    <tr>\n",
       "      <th>3</th>\n",
       "      <td>How Brown Saw the Baseball Game</td>\n",
       "      <td>comedy</td>\n",
       "      <td>https://en.wikipedia.org/wiki/How_Brown_Saw_th...</td>\n",
       "      <td>Before heading out to a baseball game at a nea...</td>\n",
       "    </tr>\n",
       "    <tr>\n",
       "      <th>4</th>\n",
       "      <td>Laughing Gas</td>\n",
       "      <td>comedy</td>\n",
       "      <td>https://en.wikipedia.org/wiki/Laughing_Gas_(fi...</td>\n",
       "      <td>The plot is that of a black woman going to the...</td>\n",
       "    </tr>\n",
       "    <tr>\n",
       "      <th>5</th>\n",
       "      <td>The Adventures of Dollie</td>\n",
       "      <td>drama</td>\n",
       "      <td>https://en.wikipedia.org/wiki/The_Adventures_o...</td>\n",
       "      <td>On a beautiful summer day a father and mother ...</td>\n",
       "    </tr>\n",
       "    <tr>\n",
       "      <th>6</th>\n",
       "      <td>The Black Viper</td>\n",
       "      <td>drama</td>\n",
       "      <td>https://en.wikipedia.org/wiki/The_Black_Viper</td>\n",
       "      <td>A thug accosts a girl as she leaves her workpl...</td>\n",
       "    </tr>\n",
       "    <tr>\n",
       "      <th>7</th>\n",
       "      <td>A Calamitous Elopement</td>\n",
       "      <td>comedy</td>\n",
       "      <td>https://en.wikipedia.org/wiki/A_Calamitous_Elo...</td>\n",
       "      <td>A young couple decides to elope after being ca...</td>\n",
       "    </tr>\n",
       "    <tr>\n",
       "      <th>8</th>\n",
       "      <td>The Call of the Wild</td>\n",
       "      <td>adventure</td>\n",
       "      <td>https://en.wikipedia.org/wiki/The_Call_of_the_...</td>\n",
       "      <td>A white girl (Florence Lawrence) rejects a pro...</td>\n",
       "    </tr>\n",
       "    <tr>\n",
       "      <th>9</th>\n",
       "      <td>A Christmas Carol</td>\n",
       "      <td>drama</td>\n",
       "      <td>https://en.wikipedia.org/wiki/A_Christmas_Caro...</td>\n",
       "      <td>No prints of the first American film adaptatio...</td>\n",
       "    </tr>\n",
       "  </tbody>\n",
       "</table>\n",
       "</div>"
      ],
      "text/plain": [
       "                             Title      Genre  \\\n",
       "0          The Great Train Robbery    western   \n",
       "1                  The Suburbanite     comedy   \n",
       "2                     Daniel Boone  biography   \n",
       "3  How Brown Saw the Baseball Game     comedy   \n",
       "4                     Laughing Gas     comedy   \n",
       "5         The Adventures of Dollie      drama   \n",
       "6                  The Black Viper      drama   \n",
       "7           A Calamitous Elopement     comedy   \n",
       "8             The Call of the Wild  adventure   \n",
       "9                A Christmas Carol      drama   \n",
       "\n",
       "                                           Wiki Page  \\\n",
       "0  https://en.wikipedia.org/wiki/The_Great_Train_...   \n",
       "1      https://en.wikipedia.org/wiki/The_Suburbanite   \n",
       "2  https://en.wikipedia.org/wiki/Daniel_Boone_(19...   \n",
       "3  https://en.wikipedia.org/wiki/How_Brown_Saw_th...   \n",
       "4  https://en.wikipedia.org/wiki/Laughing_Gas_(fi...   \n",
       "5  https://en.wikipedia.org/wiki/The_Adventures_o...   \n",
       "6      https://en.wikipedia.org/wiki/The_Black_Viper   \n",
       "7  https://en.wikipedia.org/wiki/A_Calamitous_Elo...   \n",
       "8  https://en.wikipedia.org/wiki/The_Call_of_the_...   \n",
       "9  https://en.wikipedia.org/wiki/A_Christmas_Caro...   \n",
       "\n",
       "                                                Plot  \n",
       "0  The film opens with two bandits breaking into ...  \n",
       "1  The film is about a family who move to the sub...  \n",
       "2  Boone's daughter befriends an Indian maiden as...  \n",
       "3  Before heading out to a baseball game at a nea...  \n",
       "4  The plot is that of a black woman going to the...  \n",
       "5  On a beautiful summer day a father and mother ...  \n",
       "6  A thug accosts a girl as she leaves her workpl...  \n",
       "7  A young couple decides to elope after being ca...  \n",
       "8  A white girl (Florence Lawrence) rejects a pro...  \n",
       "9  No prints of the first American film adaptatio...  "
      ]
     },
     "execution_count": 15,
     "metadata": {},
     "output_type": "execute_result"
    }
   ],
   "source": [
    "cleaned_df.head(10)"
   ]
  },
  {
   "cell_type": "code",
   "execution_count": 6,
   "metadata": {},
   "outputs": [
    {
     "data": {
      "text/plain": [
       "drama              7139\n",
       "comedy             5637\n",
       "action             2303\n",
       "romance            1944\n",
       "crime              1623\n",
       "horror             1391\n",
       "thriller           1061\n",
       "western             924\n",
       "animation           839\n",
       "science_fiction     786\n",
       "musical             708\n",
       "adventure           610\n",
       "mystery             481\n",
       "war                 408\n",
       "family              402\n",
       "fantasy             326\n",
       "biography           323\n",
       "Name: Genre, dtype: int64"
      ]
     },
     "execution_count": 6,
     "metadata": {},
     "output_type": "execute_result"
    }
   ],
   "source": [
    "cleaned_df['Genre'].value_counts()"
   ]
  },
  {
   "cell_type": "code",
   "execution_count": null,
   "metadata": {},
   "outputs": [],
   "source": []
  }
 ],
 "metadata": {
  "kernelspec": {
   "display_name": "Python 3",
   "language": "python",
   "name": "python3"
  },
  "language_info": {
   "codemirror_mode": {
    "name": "ipython",
    "version": 3
   },
   "file_extension": ".py",
   "mimetype": "text/x-python",
   "name": "python",
   "nbconvert_exporter": "python",
   "pygments_lexer": "ipython3",
   "version": "3.7.1"
  }
 },
 "nbformat": 4,
 "nbformat_minor": 2
}
